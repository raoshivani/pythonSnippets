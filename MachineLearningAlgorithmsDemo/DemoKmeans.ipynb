{
 "metadata": {
  "name": "",
  "signature": "sha256:2040655b3b761a4bfd15593e1d9d4a3829450020a46437cbf12f057e0e298e24"
 },
 "nbformat": 3,
 "nbformat_minor": 0,
 "worksheets": [
  {
   "cells": [
    {
     "cell_type": "code",
     "collapsed": false,
     "input": [
      "import numpy "
     ],
     "language": "python",
     "metadata": {},
     "outputs": [],
     "prompt_number": 4
    },
    {
     "cell_type": "code",
     "collapsed": false,
     "input": [
      "data1 = 2.5 * np.random.randn(4, 2) + 3\n",
      "data2 = 5 * np.random.randn(5,2) + 2\n",
      "data = numpy.vstack((data1,data2))"
     ],
     "language": "python",
     "metadata": {},
     "outputs": [],
     "prompt_number": 32
    },
    {
     "cell_type": "code",
     "collapsed": false,
     "input": [
      "def reached_convergence(prevmean, newmean):\n",
      "    \n",
      "\n",
      "def kMeans(data, K, max_iterations):\n",
      "    (n,m) = data.shape\n",
      "    c = np.random.randint(K, size=(n,1))\n",
      "    means = np.zeros(K,m)\n",
      "    iterationCount = 1\n",
      "    // m-step\n",
      "    for k in range(0,K)\n",
      "        means[k,] = np.mean(data[np.where(c==k)[0],],axis=0)\n",
      "    // e-step\n",
      "    for i in range(0,n):\n",
      "        "
     ],
     "language": "python",
     "metadata": {},
     "outputs": []
    },
    {
     "cell_type": "code",
     "collapsed": false,
     "input": [
      "np.random.randint(5, size=(3.,2.))"
     ],
     "language": "python",
     "metadata": {},
     "outputs": [
      {
       "metadata": {},
       "output_type": "pyout",
       "prompt_number": 30,
       "text": [
        "array([[2, 2],\n",
        "       [4, 3],\n",
        "       [0, 0]])"
       ]
      }
     ],
     "prompt_number": 30
    },
    {
     "cell_type": "code",
     "collapsed": false,
     "input": [
      "(n,m) = data.shape\n",
      "K=2\n",
      "c = np.random.randint(K, size=(n,1))[:,0]\n",
      "means = np.zeros((K,m))"
     ],
     "language": "python",
     "metadata": {},
     "outputs": [],
     "prompt_number": 58
    },
    {
     "cell_type": "code",
     "collapsed": false,
     "input": [
      "k=0"
     ],
     "language": "python",
     "metadata": {},
     "outputs": [],
     "prompt_number": 59
    },
    {
     "cell_type": "code",
     "collapsed": false,
     "input": [
      "means[k,] = np.mean(data[np.where(c==k)[0],],axis=0)"
     ],
     "language": "python",
     "metadata": {},
     "outputs": [],
     "prompt_number": 60
    },
    {
     "cell_type": "code",
     "collapsed": false,
     "input": [
      "means"
     ],
     "language": "python",
     "metadata": {},
     "outputs": [
      {
       "metadata": {},
       "output_type": "pyout",
       "prompt_number": 61,
       "text": [
        "array([[ 3.30168621,  3.57354777],\n",
        "       [ 0.        ,  0.        ]])"
       ]
      }
     ],
     "prompt_number": 61
    },
    {
     "cell_type": "code",
     "collapsed": false,
     "input": [],
     "language": "python",
     "metadata": {},
     "outputs": []
    }
   ],
   "metadata": {}
  }
 ]
}