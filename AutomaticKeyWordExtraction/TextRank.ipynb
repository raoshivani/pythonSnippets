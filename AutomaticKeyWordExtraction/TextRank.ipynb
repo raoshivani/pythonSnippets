{
 "metadata": {
  "name": "",
  "signature": "sha256:b4e526c8516cab91f97443b802514c660eee587110bdba1c7196f087f70a6204"
 },
 "nbformat": 3,
 "nbformat_minor": 0,
 "worksheets": [
  {
   "cells": [
    {
     "cell_type": "heading",
     "level": 1,
     "metadata": {},
     "source": [
      "TextRank illustration using ipython"
     ]
    },
    {
     "cell_type": "markdown",
     "metadata": {},
     "source": [
      "For details about the paper please visit (http://web.eecs.umich.edu/~mihalcea/papers/mihalcea.emnlp04.pdf)   \n",
      "This code only works for key-word extraction   \n",
      "I have borrowed heavily from various sources in order create this demo.   \n",
      "This is basically modified version of TextRank By David Adamo (https://github.com/davidadamojr/TextRank).    \n",
      "David has used a Levenshtein distance between two words, I have used the traditional window based approach mentioned in the paper   "
     ]
    },
    {
     "cell_type": "markdown",
     "metadata": {},
     "source": [
      "Import all the required tools"
     ]
    },
    {
     "cell_type": "code",
     "collapsed": false,
     "input": [
      "import io, os\n",
      "import nltk, sklearn\n",
      "import itertools\n",
      "from operator import itemgetter\n",
      "import networkx as nx\n",
      "from collections import defaultdict\n",
      "import matplotlib.pyplot as plt\n",
      "%matplotlib inline\n",
      "import re\n",
      "# pattern to replace unicode characters with space\n",
      "#re.sub(r'[^\\x00-\\x7F]+',' ', reviews)"
     ],
     "language": "python",
     "metadata": {},
     "outputs": [],
     "prompt_number": 5
    },
    {
     "cell_type": "code",
     "collapsed": false,
     "input": [
      "#apply syntactic filters based on POS tags taken from https://github.com/davidadamojr/TextRank\n",
      "def filter_for_tags(tagged, tags=['NN', 'JJ', 'NNP','NNS','VBN']):\n",
      "    return [item for item in tagged if item[1] in tags]\n",
      "\n",
      "#replace . with spaces https://github.com/davidadamojr/TextRank\n",
      "def normalize(tagged):\n",
      "    return [(item[0].replace('.', ''), item[1]) for item in tagged]\n",
      "\n",
      "# I create an inverted index here of the incoming word tokens. This helps me compute cooccurence in a given window\n",
      "def create_index (data):\n",
      "        index = defaultdict(list)\n",
      "        for i, token in enumerate(data):\n",
      "            index[token].append(i)\n",
      "        return index\n",
      "    \n",
      "# This function takes in an inverted index, the two terms and the window in which occurence is observed\n",
      "def computeCoOccurence(index, N, term1, term2):\n",
      "    word1L = index[term1] # get the list of locations where term1 occured\n",
      "    word2L = index[term2] # get the list of locations where term2 occured\n",
      "    cooccur = 0\n",
      "    # compute the cartesian product of the two lists\n",
      "    for (a,b) in itertools.product(word1L,word2L):\n",
      "        cooccur = cooccur + (abs(a-b)<=N) # if any of the pairs are within N window\n",
      "    return(cooccur)\n",
      "\n",
      "# This returns if two terms occured next to each other\n",
      "def isadjacent(index, term1, term2):\n",
      "    word1L = index[term1]\n",
      "    word2L = index[term2]\n",
      "    cooccur = 0 # assume the two terms are not adjacent\n",
      "    for (a,b) in itertools.product(word1L,word2L):\n",
      "        cooccur = cooccur or (b-a ==1) # unless at least for one of their occurences they were adjacent\n",
      "    return(cooccur)\n",
      "\n",
      "#Build a graph of the nodes, given the inverted index and the cooccurence window N\n",
      "# this code is partially borrowed from (https://github.com/davidadamojr/TextRank/blob/master/textrank.py)\n",
      "# I have used my own version of edge weights though\n",
      "def buildGraph(nodes,invertedIndex, N):\n",
      "    \"nodes - list of hashables that represents the nodes of the graph\"\n",
      "    gr = nx.Graph() #initialize an undirected graph\n",
      "    gr.add_nodes_from(nodes)\n",
      "    nodePairs = list(itertools.combinations(nodes, 2))\n",
      "\n",
      "    #add edges to the graph (weighted by Levenshtein distance)\n",
      "    for pair in nodePairs:\n",
      "        term1 = pair[0]\n",
      "        term2 = pair[1]\n",
      "        cooccurence = computeCoOccurence(invertedIndex, N, term1, term2)\n",
      "        if (cooccurence > 0):\n",
      "            gr.add_edge(term1, term2, weight=cooccurence)\n",
      "\n",
      "    return gr\n",
      "\n",
      "\n",
      "def returnImportantKeyWords(text,N):\n",
      "    wordTokens = nltk.word_tokenize(text)\n",
      "    invertedIndex = create_index(wordTokens)\n",
      "    #assign POS tags to the words in the text\n",
      "    tagged = nltk.pos_tag(wordTokens)\n",
      "    tagged = filter_for_tags(tagged)\n",
      "    tagged = normalize(tagged)\n",
      "    nodes = set([x[0] for x in tagged])\n",
      "    G = buildGraph(nodes,invertedIndex, N)\n",
      "    pos=nx.spring_layout(G) # positions for all nodes\n",
      "    # nodes\n",
      "    nx.draw(G)\n",
      "    nx.draw_networkx_labels(G,pos,labels={key: key for key in G.nodes()})\n",
      "    plt.show()\n",
      "    calculated_page_rank = nx.pagerank(G, weight='weight')\n",
      "    keyphrases = sorted(calculated_page_rank, key=calculated_page_rank.get, reverse=True)\n",
      "    keyPhrasePairs = list(itertools.combinations(keyphrases, 2))\n",
      "    aThird = len(nodes) / 3\n",
      "    keyphases = keyphrases[0:aThird+1]\n",
      "    results = []\n",
      "    for pair in keyPhrasePairs:\n",
      "        term1 = pair[0]\n",
      "        term2 = pair[1]\n",
      "        if (isadjacent(invertedIndex, term1, term2)):\n",
      "            results.append(pair[0] + \" \" + pair[1])\n",
      "    return(results)"
     ],
     "language": "python",
     "metadata": {},
     "outputs": [],
     "prompt_number": 6
    },
    {
     "cell_type": "markdown",
     "metadata": {},
     "source": [
      "Lets read in the text"
     ]
    },
    {
     "cell_type": "code",
     "collapsed": false,
     "input": [
      "text  = '''In this paper, we introduce TextRank, a graph-based ranking model for text processing, and show how this model can be successfully used in natural language applications. In particular, we propose two innovative unsupervised methods for keyword and sentence extraction, and show that the results obtained compare favorably with previously published results on established benchmarks.'''\n",
      "text"
     ],
     "language": "python",
     "metadata": {},
     "outputs": [
      {
       "metadata": {},
       "output_type": "pyout",
       "prompt_number": 9,
       "text": [
        "'In this paper, we introduce TextRank, a graph-based ranking model for text processing, and show how this model can be successfully used in natural language applications. In particular, we propose two innovative unsupervised methods for keyword and sentence extraction, and show that the results obtained compare favorably with previously published results on established benchmarks.'"
       ]
      }
     ],
     "prompt_number": 9
    },
    {
     "cell_type": "markdown",
     "metadata": {},
     "source": [
      "1. create word tokens   \n",
      "2. create inverted index from the word tokens   \n",
      "3. get the part of speech tags for the words   \n",
      "4. filter out anything thats not a noun or an adjective   \n",
      "5. finally take out any '.' marks"
     ]
    },
    {
     "cell_type": "code",
     "collapsed": false,
     "input": [
      "wordTokens = nltk.word_tokenize(text)\n",
      "invertedIndex = create_index(wordTokens)\n",
      "#assign POS tags to the words in the text\n",
      "tagged = nltk.pos_tag(wordTokens)\n",
      "tagged"
     ],
     "language": "python",
     "metadata": {},
     "outputs": [
      {
       "metadata": {},
       "output_type": "pyout",
       "prompt_number": 11,
       "text": [
        "[('In', 'IN'),\n",
        " ('this', 'DT'),\n",
        " ('paper', 'NN'),\n",
        " (',', ','),\n",
        " ('we', 'PRP'),\n",
        " ('introduce', 'VBP'),\n",
        " ('TextRank', 'NNP'),\n",
        " (',', ','),\n",
        " ('a', 'DT'),\n",
        " ('graph-based', 'JJ'),\n",
        " ('ranking', 'NN'),\n",
        " ('model', 'NN'),\n",
        " ('for', 'IN'),\n",
        " ('text', 'NN'),\n",
        " ('processing', 'VBG'),\n",
        " (',', ','),\n",
        " ('and', 'CC'),\n",
        " ('show', 'NN'),\n",
        " ('how', 'WRB'),\n",
        " ('this', 'DT'),\n",
        " ('model', 'NN'),\n",
        " ('can', 'MD'),\n",
        " ('be', 'VB'),\n",
        " ('successfully', 'RB'),\n",
        " ('used', 'VBN'),\n",
        " ('in', 'IN'),\n",
        " ('natural', 'JJ'),\n",
        " ('language', 'NN'),\n",
        " ('applications', 'NNS'),\n",
        " ('.', '.'),\n",
        " ('In', 'IN'),\n",
        " ('particular', 'JJ'),\n",
        " (',', ','),\n",
        " ('we', 'PRP'),\n",
        " ('propose', 'VBP'),\n",
        " ('two', 'CD'),\n",
        " ('innovative', 'JJ'),\n",
        " ('unsupervised', 'VBN'),\n",
        " ('methods', 'NNS'),\n",
        " ('for', 'IN'),\n",
        " ('keyword', 'NN'),\n",
        " ('and', 'CC'),\n",
        " ('sentence', 'NN'),\n",
        " ('extraction', 'NN'),\n",
        " (',', ','),\n",
        " ('and', 'CC'),\n",
        " ('show', 'NN'),\n",
        " ('that', 'IN'),\n",
        " ('the', 'DT'),\n",
        " ('results', 'NNS'),\n",
        " ('obtained', 'VBD'),\n",
        " ('compare', 'NN'),\n",
        " ('favorably', 'RB'),\n",
        " ('with', 'IN'),\n",
        " ('previously', 'RB'),\n",
        " ('published', 'VBN'),\n",
        " ('results', 'NNS'),\n",
        " ('on', 'IN'),\n",
        " ('established', 'JJ'),\n",
        " ('benchmarks', 'NNS'),\n",
        " ('.', '.')]"
       ]
      }
     ],
     "prompt_number": 11
    },
    {
     "cell_type": "code",
     "collapsed": false,
     "input": [
      "tagged = filter_for_tags(tagged)\n",
      "tagged = normalize(tagged)\n",
      "tagged"
     ],
     "language": "python",
     "metadata": {},
     "outputs": [
      {
       "metadata": {},
       "output_type": "pyout",
       "prompt_number": 13,
       "text": [
        "[('paper', 'NN'),\n",
        " ('TextRank', 'NNP'),\n",
        " ('graph-based', 'JJ'),\n",
        " ('ranking', 'NN'),\n",
        " ('model', 'NN'),\n",
        " ('text', 'NN'),\n",
        " ('show', 'NN'),\n",
        " ('model', 'NN'),\n",
        " ('used', 'VBN'),\n",
        " ('natural', 'JJ'),\n",
        " ('language', 'NN'),\n",
        " ('applications', 'NNS'),\n",
        " ('particular', 'JJ'),\n",
        " ('innovative', 'JJ'),\n",
        " ('unsupervised', 'VBN'),\n",
        " ('methods', 'NNS'),\n",
        " ('keyword', 'NN'),\n",
        " ('sentence', 'NN'),\n",
        " ('extraction', 'NN'),\n",
        " ('show', 'NN'),\n",
        " ('results', 'NNS'),\n",
        " ('compare', 'NN'),\n",
        " ('published', 'VBN'),\n",
        " ('results', 'NNS'),\n",
        " ('established', 'JJ'),\n",
        " ('benchmarks', 'NNS')]"
       ]
      }
     ],
     "prompt_number": 13
    },
    {
     "cell_type": "markdown",
     "metadata": {},
     "source": [
      "Lets build the graph"
     ]
    },
    {
     "cell_type": "code",
     "collapsed": false,
     "input": [
      "nodes = set([x[0] for x in tagged])\n",
      "G = buildGraph(nodes,invertedIndex, 3)\n",
      "pos=nx.spring_layout(G) # positions for all nodes\n",
      "# nodes\n",
      "nx.draw(G)\n",
      "nx.draw_networkx_labels(G,pos,labels={key: key for key in G.nodes()})\n",
      "plt.show()"
     ],
     "language": "python",
     "metadata": {},
     "outputs": [
      {
       "metadata": {},
       "output_type": "display_data",
       "png": "[encoded data removed]",
       "text": [
        "<matplotlib.figure.Figure at 0x1124ee0d0>"
       ]
      }
     ],
     "prompt_number": 16
    },
    {
     "cell_type": "markdown",
     "metadata": {},
     "source": [
      "Compute Page rank and extract the key phrases"
     ]
    },
    {
     "cell_type": "code",
     "collapsed": false,
     "input": [
      "calculated_page_rank = nx.pagerank(G, weight='weight')\n",
      "keyphrases = sorted(calculated_page_rank, key=calculated_page_rank.get, reverse=True)\n",
      "keyphrases"
     ],
     "language": "python",
     "metadata": {},
     "outputs": [
      {
       "metadata": {},
       "output_type": "pyout",
       "prompt_number": 17,
       "text": [
        "['results',\n",
        " 'model',\n",
        " 'keyword',\n",
        " 'applications',\n",
        " 'natural',\n",
        " 'language',\n",
        " 'graph-based',\n",
        " 'established',\n",
        " 'ranking',\n",
        " 'show',\n",
        " 'methods',\n",
        " 'unsupervised',\n",
        " 'extraction',\n",
        " 'used',\n",
        " 'benchmarks',\n",
        " 'published',\n",
        " 'text',\n",
        " 'innovative',\n",
        " 'sentence',\n",
        " 'particular',\n",
        " 'TextRank',\n",
        " 'compare',\n",
        " 'paper']"
       ]
      }
     ],
     "prompt_number": 17
    },
    {
     "cell_type": "markdown",
     "metadata": {},
     "source": [
      "Retain the top 1/3 of (size of graph) worth of nodes"
     ]
    },
    {
     "cell_type": "code",
     "collapsed": false,
     "input": [
      "keyPhrasePairs = list(itertools.combinations(keyphrases, 2))\n",
      "for pair in keyPhrasePairs:\n",
      "    term1 = pair[0]\n",
      "    term2 = pair[1]\n",
      "    if (isadjacent(invertedIndex, term1, term2)):\n",
      "        keyphrases.append(pair[0] + \" \" + pair[1])"
     ],
     "language": "python",
     "metadata": {},
     "outputs": [],
     "prompt_number": 18
    },
    {
     "cell_type": "code",
     "collapsed": false,
     "input": [
      "aThird = len(nodes) / 3\n",
      "keyphrases = keyphrases[0:aThird+1]"
     ],
     "language": "python",
     "metadata": {},
     "outputs": [],
     "prompt_number": 19
    },
    {
     "cell_type": "markdown",
     "metadata": {},
     "source": [
      "Combine adjacent important keyphrases to create new keywords"
     ]
    },
    {
     "cell_type": "code",
     "collapsed": false,
     "input": [
      "print(keyphrases)"
     ],
     "language": "python",
     "metadata": {},
     "outputs": [
      {
       "output_type": "stream",
       "stream": "stdout",
       "text": [
        "['results', 'model', 'keyword', 'applications', 'natural', 'language', 'graph-based', 'established']\n"
       ]
      }
     ],
     "prompt_number": 20
    },
    {
     "cell_type": "code",
     "collapsed": false,
     "input": [
      "def TextRank(text):\n",
      "    wordTokens = nltk.word_tokenize(text)\n",
      "    invertedIndex = create_index(wordTokens)\n",
      "    #assign POS tags to the words in the text\n",
      "    tagged = nltk.pos_tag(wordTokens)\n",
      "    tagged = filter_for_tags(tagged)\n",
      "    tagged = normalize(tagged)\n",
      "    nodes = set([x[0] for x in tagged])\n",
      "    G = buildGraph(nodes,invertedIndex, 3)\n",
      "    pos=nx.spring_layout(G) # positions for all nodes\n",
      "    calculated_page_rank = nx.pagerank(G, weight='weight')\n",
      "    keyphrases = sorted(calculated_page_rank, key=calculated_page_rank.get, reverse=True)\n",
      "    keyPhrasePairs = list(itertools.combinations(keyphrases, 2))\n",
      "    newKeyPhrases = []\n",
      "    for pair in keyPhrasePairs:\n",
      "        term1 = pair[0]\n",
      "        term2 = pair[1]\n",
      "        if (isadjacent(invertedIndex, term1, term2)):\n",
      "            newKeyPhrases.append(pair[0] + \" \" + pair[1])\n",
      "\n",
      "    aThird = len(nodes) / 3\n",
      "    #keyphrases = keyphrases[0:aThird+1]\n",
      "    #keyphrases.append(newKeyPhrases)\n",
      "    #return(keyphrases)\n",
      "    return(newKeyPhrases)"
     ],
     "language": "python",
     "metadata": {},
     "outputs": [],
     "prompt_number": 43
    },
    {
     "cell_type": "heading",
     "level": 2,
     "metadata": {},
     "source": [
      "Now let's try with some sample openTable data"
     ]
    },
    {
     "cell_type": "markdown",
     "metadata": {},
     "source": [
      "Let's take an example description"
     ]
    },
    {
     "cell_type": "code",
     "collapsed": false,
     "input": [
      "sample_description = ''''A popular destination in Half Moon Bay for nearly 30 years, Pasta Moon Restaurant serves contemporary Italian cuisine using the freshest local produce available- in fact, easily the finest dining on the coast; (and not the most expensive!). You'll find a cozy setting for lunch or dinner, surrounded by old arched casement windows which once brought light into the Burlingame Public Library, and you'll be served by an attentive and knowledgeable staff.'''\n",
      "sample_description"
     ],
     "language": "python",
     "metadata": {},
     "outputs": [
      {
       "metadata": {},
       "output_type": "pyout",
       "prompt_number": 44,
       "text": [
        "\"'A popular destination in Half Moon Bay for nearly 30 years, Pasta Moon Restaurant serves contemporary Italian cuisine using the freshest local produce available- in fact, easily the finest dining on the coast; (and not the most expensive!). You'll find a cozy setting for lunch or dinner, surrounded by old arched casement windows which once brought light into the Burlingame Public Library, and you'll be served by an attentive and knowledgeable staff.\""
       ]
      }
     ],
     "prompt_number": 44
    },
    {
     "cell_type": "code",
     "collapsed": false,
     "input": [
      "TextRank(sample_description)"
     ],
     "language": "python",
     "metadata": {},
     "outputs": [
      {
       "metadata": {},
       "output_type": "pyout",
       "prompt_number": 45,
       "text": [
        "['Moon Restaurant',\n",
        " 'Moon Bay',\n",
        " 'Burlingame Public',\n",
        " 'contemporary Italian',\n",
        " 'old arched',\n",
        " 'arched casement',\n",
        " 'knowledgeable staff',\n",
        " 'Public Library',\n",
        " 'Italian cuisine']"
       ]
      }
     ],
     "prompt_number": 45
    },
    {
     "cell_type": "markdown",
     "metadata": {},
     "source": [
      "Let's look a sample menu"
     ]
    },
    {
     "cell_type": "code",
     "collapsed": false,
     "input": [
      "menu = '''APPETIZER\n",
      "Samosas Rice flour turnover filled with potatoes, red onions, peas, carrots and a blend of ten unique spices, served with special house sauce.\n",
      "Salt & Pepper Calamari Choice of crisp calamari, fish, or chicken, stir-fried with scallions and black pepper.\n",
      "Palata Multi-layer bread served with coconut chicken additional charge for vegetarian curry or lamb curry.\n",
      "Northern Fried Tofu Homemade tofu made from yellow bean powder and served with soy chili sauce.\n",
      "Lettuce Wrap Lettuce wrap with radish, carrots and water chestnut with choice of chicken or shrimp, all tossed in special house sauce.\n",
      "SALADS\n",
      "Tea Leaf Salad This salad is a popular traditional treat unique to Burma. A mix of Burmese tea leaves, fried garlic, yellow beans, peanuts, sesame seeds, lettuce, tomato, jalapeno peppers and dried shrimp. This special salad will awaken your taste buds (vegetarian option available). \n",
      "Ginger Salad Light and refreshing, this salad is mixed with pickled ginger, fried garlic, yellow beans, sesame seeds, sunflower seeds, jalapeno peppers and dried shrimp (vegetarian option available). \n",
      "Samosa Salad Salad with vegan samosas, cabbage, onions, cilantro, cucumber, yellow bean powder, fried garlic and cilantro. Tamarind dressing with crushed red chili added to taste. \n",
      "Burmese Chicken Salad Bite sized fried chicken with sliced red onion, fried onions, roasted bean powder, fried garlic and onion, cilantro and lime. Crushed red chili seasoned to taste. \n",
      "Mango Salad Shredded fresh green mangos served with fried onions, fried garlic, cabbage, red onions, yellow bean powder, cucumber and dried shrimp\n",
      "SOUPS\n",
      "Monk Hingar (Pureed Catfish Chowder) This famous dish can be eaten anytime at any occasion. Thin rice noodles in a rich soup made from catfish, ginger, lemongrass, onion, garlic and fried rice powder. Served with hard-boiled egg, fried yellow peas and cilantro. Lemon and crush red chili added to taste\n",
      "Ohnoh Kawt Swe (Coconut Noodle Soup) A rich and creamy coconut bisque with flour noodles. Served with chicken, onion, tamarind powder and paprika. Garnished with onion, cilantro and lemon\n",
      "Samosa Soup A delicious soup made with samosas, potatoes, onions, lentils, cabbage and falafel.\n",
      "ENTREES\n",
      "Kebat Chicken, beef or shrimp stir-fried with paprika, masala, tamarind, green chilis, mint leaves, tomatoes, onions and cilantro (add $2 for shrimp)\n",
      "Basil Chili Beef Strips of beef tossed with dried chili flakes, fresh chili and onions, finished with basil\n",
      "Fiery Tofu Chicken, pork, or beef, wok fried with tofu, string beans, bell pepper and basil in a sweet and spicy sauce\n",
      "Chicken Crisp Crispy chicken breast deep fried and tossed in wok with garlic, ginger and chili sauce\n",
      "Mango Chicken Chicken breast tossed in wok with basil, onions and mango puree. Served with fresh mango on the side\n",
      "Ruby Shrimp Wok sauteed shrimp served with onion, garlic and jalapenos\n",
      "Rangoon Chicken Curry Red chicken curry cooked with yellow beans\n",
      "Burmese Curried Pork Pork simmered in red curry served with potatoes and pickled mangoes\n",
      "Country Style Beef Curry Tender beef in a traditional red curry with onion, garlic, lemongrass and red chili\n",
      "Shrimp Curry Succulent shrimp stewed in Rangoon Ruby's homemade special red curry sauce\n",
      "Pumpkin Pork Stew A delicious stew made with pork, locally grown pumpkin, fresh onion, garlic, ginger and Burmese spices\n",
      "Walnut Shrimp Lightly fried shrimp wok tossed with sweet sauce, topped with toasted walnuts and sesame seeds\n",
      "Mango Swai White-flesh fish tossed in wok with basil, onions and mango puree. Served with fresh mango on the side\n",
      "VEGETABLES and TOFU\n",
      "Veggie Kebat A mix of vegetables stir-fried with paprika, masala, tamarind, green chilis, mint leaves, tomatoes, onions and cilantro\n",
      "Eggplant and Garlic Sauteed eggplant with garlic, scallions and sweet chili sauce\n",
      "Fiery Tofu Wok fried tofu, string beans, bell pepper and basil in a lightly fiery Rangoon sauce\n",
      "Mango Tofu Tofu tossed in wok with basil, onions and mango puree. Served with fresh mango on the side\n",
      "Burmese Eggplant Curry Pan-fried Burmese eggplant cooked with onion, garlic, and ginger\n",
      "Ruby String Beans Stir-fried string beans served in garlic and chili sauce\n",
      "Pumpkin Tofu Stew A delicious stew made with tofu, locally grown pumpkin, fresh onion, garlic, ginger and Burmese spices\n",
      "Broccoli and Garlic Broccoli tossed in work with white wine, garlic, a dash of salt and garnished with fried onions\n",
      "Mixed Vegetable Curry Tomatoes, ocra, eggplant, yellow beans, carrots, potatoes, cabbage, lentils and tofu coming together in harmony\n",
      "NOODLES\n",
      "Nan Gyi Dok Rice noodles with coconut chicken sauce, yellow bean powder, cilantro and fried onion. Topped with a hardboiled egg and crispy wontons\n",
      "Rangoon Noodle Wheat noodles tossed with tofu, cucumber, cilantro, tomato, cabbage, chili sauce and dried shrimp powder (vegan option available)\n",
      "Garlic Noodle Flour noodles, crisp garlic and scallions tossed in a special house sauce. Served with fried tofu, BBQ pork or roast duck (additional charge for BBQ pork or roast duck)'''"
     ],
     "language": "python",
     "metadata": {},
     "outputs": [],
     "prompt_number": 46
    },
    {
     "cell_type": "code",
     "collapsed": false,
     "input": [
      "cleaned_menu = re.sub(r'[\\\\[\\\\]\\n.!?;:\\t\\\\\"\\\\(\\\\)\\\\\\'\\u2019\\u2013]',' ',re.sub(r'[^\\x00-\\x7F]+','', menu.lower()))\n",
      "keywords = TextRank(re.sub(r'[^\\x00-\\x7F]+','', cleaned_menu))\n",
      "keywords"
     ],
     "language": "python",
     "metadata": {},
     "outputs": [
      {
       "metadata": {},
       "output_type": "pyout",
       "prompt_number": 47,
       "text": [
        "['fried garlic',\n",
        " 'fried chicken',\n",
        " 'fried tofu',\n",
        " 'fried shrimp',\n",
        " 'fried onions',\n",
        " 'fried yellow',\n",
        " 'fried onion',\n",
        " 'fried rice',\n",
        " 'garlic noodle',\n",
        " 'garlic sauteed',\n",
        " 'garlic broccoli',\n",
        " 'sauce chicken',\n",
        " 'sauce mango',\n",
        " 'sauce pumpkin',\n",
        " 'sauce fiery',\n",
        " 'chicken curry',\n",
        " 'chicken salad',\n",
        " 'chicken crisp',\n",
        " 'chicken breast',\n",
        " 'chicken additional',\n",
        " 'curry red',\n",
        " 'curry pan-fried',\n",
        " 'curry tender',\n",
        " 'curry succulent',\n",
        " 'tofu tossed',\n",
        " 'tofu wok',\n",
        " 'tofu stew',\n",
        " 'tofu homemade',\n",
        " 'tofu veggie',\n",
        " 'chili shrimp',\n",
        " 'chili beef',\n",
        " 'chili seasoned',\n",
        " 'shrimp )',\n",
        " 'shrimp wok',\n",
        " 'shrimp powder',\n",
        " 'shrimp stir-fried',\n",
        " 'shrimp soups',\n",
        " 'red onions',\n",
        " 'red onion',\n",
        " ') basil',\n",
        " 'mango salad',\n",
        " 'mango puree',\n",
        " 'mango swai',\n",
        " 'onions mixed',\n",
        " 'yellow beans',\n",
        " 'yellow bean',\n",
        " 'yellow peas',\n",
        " 'beans burmese',\n",
        " 'beans stir-fried',\n",
        " 'salad shredded',\n",
        " 'salad bite',\n",
        " 'salad light',\n",
        " 'burmese eggplant',\n",
        " 'burmese spices',\n",
        " 'burmese tea',\n",
        " 'burmese curried',\n",
        " 'wok sauteed',\n",
        " 'pork stew',\n",
        " 'ginger ruby',\n",
        " 'beef strips',\n",
        " 'cilantro eggplant',\n",
        " 'coconut noodle',\n",
        " 'coconut bisque',\n",
        " 'fresh green',\n",
        " 'rice flour',\n",
        " 'basil fiery',\n",
        " 'rangoon noodle',\n",
        " 'rangoon ruby',\n",
        " 'noodle flour',\n",
        " 'noodle soup',\n",
        " 'noodle wheat',\n",
        " 'pepper calamari',\n",
        " 'flour turnover',\n",
        " 'crisp crispy',\n",
        " 'crisp calamari',\n",
        " 'taste ohnoh',\n",
        " 'taste buds',\n",
        " 'vegetarian option',\n",
        " 'special house',\n",
        " 'stir-fried string',\n",
        " 'option available',\n",
        " 'crispy wontons',\n",
        " 'spices broccoli',\n",
        " 'lettuce wrap',\n",
        " 'green chilis',\n",
        " 'green mangos',\n",
        " 'side vegetables',\n",
        " 'breast deep',\n",
        " 'tea leaves',\n",
        " 'tea leaf',\n",
        " 'roast duck',\n",
        " 'catfish chowder',\n",
        " 'traditional treat',\n",
        " 'pickled mangoes',\n",
        " 'mixed vegetable',\n",
        " 'gyi dok',\n",
        " 'palata multi-layer',\n",
        " 'mangoes country',\n",
        " 'swai white-flesh',\n",
        " 'multi-layer bread',\n",
        " 'water chestnut']"
       ]
      }
     ],
     "prompt_number": 47
    },
    {
     "cell_type": "markdown",
     "metadata": {},
     "source": [
      "How about reviews?"
     ]
    },
    {
     "cell_type": "code",
     "collapsed": false,
     "input": [
      "reviews = '''Great variety in a vibrant space. Good luck settling on a dish, because there are so many to choose from and they all are delicious. Portions are generous and the prices are more than responsible. We'll be back for more. Food was great! Great flavor. Would definitely come again. Took my spouse to celebrate her birthday. I had mentioned it when I made the reservation. They noticed it and after our dinner, the waiter brought a small cake and surprised her. Will definitely recommend and visit again. The food also was great, loved their tea salad Attentive (but not too attentive), informed staff. Try something new and exotic or stick with a classic favorite. Warm ambience with a modern touch. Tea leaf salad is incredible. Love this place. Even better than the original. The food is great, staff is friendly. We dined at Burma Ruby for my birthday. The service was excellent. They called to confirm our reservation. We were seated promptly and drinks and appetizers were served quickly. Food was amazing..very flavorful. Staff very friendly. Despite all the money floating around, Palo Alto has a surprising dearth of really good restaurants (as opposed to trendy and fairly ordinary restaurants). Burma Ruby provides a new and welcome alternative, and is much better than the competing Burmese restaurant in Palo Alto (although not as good as Mandalay in San Francisco, which is the best Bay Area Burmese restaurant I have tried). Good tea leaf salad, although I prefer the more traditional version (i.e. without lettuce - which is how Mandalay makes it). Also enjoyed the string beans and the lemongrass chicken. Coconut rice was overly sweet, and rather sticky. Decent wine list, but would benefit from including some dry Rhine wines (which go very well with many Burmese dishes - Navarro Vineyards' dry Gewurztraminer and Riesling would be nice options, and are pretty reasonably priced). Tea leaf salad was extremely salty. Mango tofu served was no tofu but bean curd. No mango flavor in the sauce but serve few pieces not very ripe mango on the side Duck garlic noodle was the only entree taste decent to us, but the size of duck meat was very small Basil beef was very salty too, did not taste basil flavor in it. Service was good, food quality is not in line with its price point. Very disappointed! The Burmese tea leaf salad is a must have! They have big menu with so many delicious choices that you have to go there multiple times to fully enjoy Burma Ruby. This trip, we had the Palata with coconut chicken curry, beef kebat and coconut rice. The coconut rice is both a side dish and a dessert! Eager to go back soon! What a special lunch with family & friends! Highly recommend Burma Ruby for delicious fresh dishes. The Tea Leaf Salad is not to be missed! Love, love their coconut rice. Servers are attentive & friendly. Delicious food. Love the tea leaf salad. Have been here about 4 times now- great everytime! Some unusual choices. The tea leaf salad was unique and a delicious. The coconut rice served with a mango and fish dish was excellent. We ordered a broccoli dish which was just ok. We certainly would have ordered a different vegetable dish had we been told that the chicken mango dish contained a goodly amount of broccoli. The only real problem was the noise level. There were three of us. It was extremely difficult to have a conversation. We have enjoyed meals at Rangoon Ruby's, although finding space was always problem. Well, the new location seems bigger, and we were able to get in, but it has filled up fast. Food is still outstanding and prices reasonable for downtown Palo Alto. This is a must return, and often. No room for decor except the ceiling, since the tables pack the room . Very fast service, we felt rushed. However, the food was very good. With a range from vegan to meat. The tea leaf salad was very good. The do not serve coffee at all though. No reason to linger here. I never had Burmese food. I went there with co workers and they knew what to order. The tea leaf said, mango chicken and the palata was so delicious, I had to go back 3 days later, because I couldn't stop craving and thinking about my own! And my 5 year girls loved it! Went to this place for dinner on a Saturday. When we arrived at 6:45 , it was not crowded but the restaurant filled up by the time we were done around 7:20. Food was good and service good. But they were too fast. As soon as we put the fork for our appetizers they took away our plates. Same thing as we were done with our main course. It happened the second I had the last bite on my plate . It is nice to have prompt service but this rushed us a bit and it didn't feel like a relaxed dinner. Considering the place is a bit expensive. But on the other hand if you are looking to have a quick dinner where you food arrives fast, this would work. Stick with Rangoon Ruby. Better in every way, shape, and form. Food and service are top notch. This is my new favorite restaurant Love, love, love this place. GREAT food, great server, love the ambiance. You MUST check it out! I recommend the Ruby Rainbow salad and Ruby shrimp. but everything is GREAT There were at least 3 tables with babies and a few more with toddlers. There is no sound dampening in this place. The food is just ok and is over priced by a few dollars per item. The water they serve is flavored with cucumber - YUCK! What a nasty surprise. Service was irractic , our food came before our drinks and it took a long time to get the check. Because it was our first time eating Burmese food, we asked our waiter for some suggestions. While I thought the Tea Leaf salad sounded odd, it was amazing. In fact all of our dishes were bursting with flavor (o.k., they were bursting with oil too, but you can't have it all). Burma Rudy is in a lovely space on University. But our dinner was marred by the very cold air that rushed in every time the door opened. With no entrance alcove, and a door that opens directly into the dining room, this was one chilly restaurant with most patrons wearing their puffers. Rudy team... Buy or rent pipe and velvet drape to manage the cold air at the entrance until the weather changes. Your tasty food will be so much better! Loved the variety of food here, must have the tea leaf salad. There were 4 of us and we all had excellent food, lamb, seafood and chicken. We ordered spicy which was hot which I like, friends ordered medium and it was exactly that. Tea Salad was fabulous as always. My husband who never eats salad if he can help it, loves this tea salad so much that he had it as a entree. We each ordered the tea salad as a main course and had a beef entree as a side item. The tastes were absolutely fabulous. The flavors at Burma Ruby cannot be surpassed. We like to take out-of-town guests as an introduction to this under-appreciated cuisine and culture. Start with the tea leaf salad; it has a flavor all it's own that virtually EVERYONE enjoys. Burmese curries are quite different from the Indian curries. We especially like the eggplant curry. I have been to all locations of this Resturant many time. Food and service consistently excellent. The food was fairly bland, and quite uninteresting. The drinks were inexpertly prepared, with my drink having way too much coconut and sweetener. Service was well-intentioned, but rather clunky--the waiter came to take our appetizer plates, and a food runner was right behind him with our entrees--they nearly tripped over each other in the exchange. It's weird--I'm almost certain that this restaurant is owned by the same people are Rangoon Ruby, but the Rangoon Ruby food is SO much better. We have eaten at Burma Ruby three times now, and the food and enjoyable atmosphere have been consistently excellent. The physical location is very appealing. The restaurant is in the middle of downtown Palo Alto. High ceilings and a row of arches contrast with the modern bar where lights of different subtle colors are projected. Sitting outisde or just inside the open front wall is an option. The fancy drink menu is fun and there are some interesting beer choices. The food has Indian, Chinese, and Thai influences. We have not had a single dish that we didn't enjoy. Service is attentive but not intrusive and the waiter did not rush us. No negatives to report. We came here to just have a nice dinner outside the house, and we had a wonderful time! Amazing food and service, and they make their drinks pretty strong as well. We've been there three times and are working out way through the menu. So far everything has been tasty. The heat and spice is just right for my palate and the 4 gradations offered from mild to very spicy cover everyone. The tea pesto was surprisingly good but perhaps too oily for me to go for every night. Every chicken and beef dish has been outstanding. I found the fish a bit boring. Loved the curries. Not someplace to go for a quiet conversation. Staff was extremely thoughtful and attentive. Sat outside next to the heater and we were never forgotten and glasses were never left empty. Ordered the Rainbow Salad, Duck Garlic Noodles, Minted Pork, and Garlic Snow Pea Leaves. All were flavorful and paired well together. We had a fantastic time. This is the sister restaurant to Rangoon Ruby on Emerson Street, and the menu is the same delicious range of options. The style of Burma Ruby is more convivial -- the tables are more widely spaced and the noise level is not as severe. The wait staff is not quite as attentive, but this is easily remedied with greater focus and emphasis. We had a great time. Some of our party could not eat spicy food and they were very accommodating in that they made their dishes without any spice. The rest of the dishes had the appropriate amount of spice. The service was attentive. It was a little bit noisy but not too bad. Had been looking forward to trying this new restaurant - what a disappointment. my friend and I were there for lunch. it took a very long time for our waiter to come to the table, we actually had to \"flag\" him down. he took our order and when our food came, I asked for a knife and more water. He never brought it. We had to get the hostess to remind him. The food was not good at all. Overall it was pretty disappointing. Great food - a little loud, but food made up for it. The food is very good. However, the tables are too small for the plates and glasses that they use. Mostly the tables for two near the wall are very uncomfortable. They should put the table for four near the wall. Great University Ave location but incredibly noisy inside. We almost left but glad we didn't. Food almost to the level of Rangoon Ruby and service excellent. One of the dishes we ordered-pumpkin stew-was surprisingly bland and tasteless so we sent it back. The replacement dish the manager suggested was excellent- minted chicken with jalape\u00f1o. We typically avoid spicy foods so never considered this one. But don't think the dish lost anything with the mild preparation and we wouldn't hesitate to order again. I think the sesame beef was the table favorite. The tea leaf salad - their signature dish has the most amazing flavor. My husband who is a meat and potatoes guy loved this salad. And he never ever LOVES a salad. The ingredients were fresh and the combination of the tealeaves with crunchy yellow beans and fried garlic was fabulous. The rest of the meal was great too but the salad stood out in our minds. Delicious food and excellent service. A good place to go if you are short on time. Not really a place to linger.Went with an older couple, had to lean over the table and shout, even after asking them to lower the music (which they did graciously). We were far inside, but toward outside the Harleys went by quite often. Otherwise we liked every dish and the service was perfect.Food is Good, but nothing to rave about. Service was very attentive. Prices are a bit on the high side. Every dish costs between $15 and $20, so a dinner without drinks could easily run up to $80 after tax and tip.New restaurant which is jam packed! Great food and location on university ave in downtown Palo Alto. Requires booking in advance with right number of people. Slightly noisy due to always being full and the service is reasonably good despite them being completely full all the time.While I can't say that the service was bad, it was strange that our server seemed to be absent most of the time and the manager was helping us. He did a great job and was very friendly. With him helping out we had good service. The food was great, especially the tea leaf salad. That was one of the reasons I went there and it was well worth it. All of the other dishes were well prepared and very tasty.Burma Ruby is the second front for Rangoon Ruby, which is a couple of blocks away but unable to expand on its current site. The menu is identical with the mother ship, and just as exciting and satisfying. It is unusual for one restaurant to have a satellite so close, but with downtown Palo Alto hopping as it is, they must have calculated the demand will sustain both. There are even a few sidewalk tables, where we sat, maybe a bit too close to the foot traffic, because there is no separation, but not unpleasant even so, if you like having passersby survey your dinner.Newly open. Did well for a new place which was very busy'''\n",
      "reviews"
     ],
     "language": "python",
     "metadata": {},
     "outputs": [
      {
       "metadata": {},
       "output_type": "pyout",
       "prompt_number": 48,
       "text": [
        "'Great variety in a vibrant space. Good luck settling on a dish, because there are so many to choose from and they all are delicious. Portions are generous and the prices are more than responsible. We\\'ll be back for more. Food was great! Great flavor. Would definitely come again. Took my spouse to celebrate her birthday. I had mentioned it when I made the reservation. They noticed it and after our dinner, the waiter brought a small cake and surprised her. Will definitely recommend and visit again. The food also was great, loved their tea salad Attentive (but not too attentive), informed staff. Try something new and exotic or stick with a classic favorite. Warm ambience with a modern touch. Tea leaf salad is incredible. Love this place. Even better than the original. The food is great, staff is friendly. We dined at Burma Ruby for my birthday. The service was excellent. They called to confirm our reservation. We were seated promptly and drinks and appetizers were served quickly. Food was amazing..very flavorful. Staff very friendly. Despite all the money floating around, Palo Alto has a surprising dearth of really good restaurants (as opposed to trendy and fairly ordinary restaurants). Burma Ruby provides a new and welcome alternative, and is much better than the competing Burmese restaurant in Palo Alto (although not as good as Mandalay in San Francisco, which is the best Bay Area Burmese restaurant I have tried). Good tea leaf salad, although I prefer the more traditional version (i.e. without lettuce - which is how Mandalay makes it). Also enjoyed the string beans and the lemongrass chicken. Coconut rice was overly sweet, and rather sticky. Decent wine list, but would benefit from including some dry Rhine wines (which go very well with many Burmese dishes - Navarro Vineyards\\' dry Gewurztraminer and Riesling would be nice options, and are pretty reasonably priced). Tea leaf salad was extremely salty. Mango tofu served was no tofu but bean curd. No mango flavor in the sauce but serve few pieces not very ripe mango on the side Duck garlic noodle was the only entree taste decent to us, but the size of duck meat was very small Basil beef was very salty too, did not taste basil flavor in it. Service was good, food quality is not in line with its price point. Very disappointed! The Burmese tea leaf salad is a must have! They have big menu with so many delicious choices that you have to go there multiple times to fully enjoy Burma Ruby. This trip, we had the Palata with coconut chicken curry, beef kebat and coconut rice. The coconut rice is both a side dish and a dessert! Eager to go back soon! What a special lunch with family & friends! Highly recommend Burma Ruby for delicious fresh dishes. The Tea Leaf Salad is not to be missed! Love, love their coconut rice. Servers are attentive & friendly. Delicious food. Love the tea leaf salad. Have been here about 4 times now- great everytime! Some unusual choices. The tea leaf salad was unique and a delicious. The coconut rice served with a mango and fish dish was excellent. We ordered a broccoli dish which was just ok. We certainly would have ordered a different vegetable dish had we been told that the chicken mango dish contained a goodly amount of broccoli. The only real problem was the noise level. There were three of us. It was extremely difficult to have a conversation. We have enjoyed meals at Rangoon Ruby\\'s, although finding space was always problem. Well, the new location seems bigger, and we were able to get in, but it has filled up fast. Food is still outstanding and prices reasonable for downtown Palo Alto. This is a must return, and often. No room for decor except the ceiling, since the tables pack the room . Very fast service, we felt rushed. However, the food was very good. With a range from vegan to meat. The tea leaf salad was very good. The do not serve coffee at all though. No reason to linger here. I never had Burmese food. I went there with co workers and they knew what to order. The tea leaf said, mango chicken and the palata was so delicious, I had to go back 3 days later, because I couldn\\'t stop craving and thinking about my own! And my 5 year girls loved it! Went to this place for dinner on a Saturday. When we arrived at 6:45 , it was not crowded but the restaurant filled up by the time we were done around 7:20. Food was good and service good. But they were too fast. As soon as we put the fork for our appetizers they took away our plates. Same thing as we were done with our main course. It happened the second I had the last bite on my plate . It is nice to have prompt service but this rushed us a bit and it didn\\'t feel like a relaxed dinner. Considering the place is a bit expensive. But on the other hand if you are looking to have a quick dinner where you food arrives fast, this would work. Stick with Rangoon Ruby. Better in every way, shape, and form. Food and service are top notch. This is my new favorite restaurant Love, love, love this place. GREAT food, great server, love the ambiance. You MUST check it out! I recommend the Ruby Rainbow salad and Ruby shrimp. but everything is GREAT There were at least 3 tables with babies and a few more with toddlers. There is no sound dampening in this place. The food is just ok and is over priced by a few dollars per item. The water they serve is flavored with cucumber - YUCK! What a nasty surprise. Service was irractic , our food came before our drinks and it took a long time to get the check. Because it was our first time eating Burmese food, we asked our waiter for some suggestions. While I thought the Tea Leaf salad sounded odd, it was amazing. In fact all of our dishes were bursting with flavor (o.k., they were bursting with oil too, but you can\\'t have it all). Burma Rudy is in a lovely space on University. But our dinner was marred by the very cold air that rushed in every time the door opened. With no entrance alcove, and a door that opens directly into the dining room, this was one chilly restaurant with most patrons wearing their puffers. Rudy team... Buy or rent pipe and velvet drape to manage the cold air at the entrance until the weather changes. Your tasty food will be so much better! Loved the variety of food here, must have the tea leaf salad. There were 4 of us and we all had excellent food, lamb, seafood and chicken. We ordered spicy which was hot which I like, friends ordered medium and it was exactly that. Tea Salad was fabulous as always. My husband who never eats salad if he can help it, loves this tea salad so much that he had it as a entree. We each ordered the tea salad as a main course and had a beef entree as a side item. The tastes were absolutely fabulous. The flavors at Burma Ruby cannot be surpassed. We like to take out-of-town guests as an introduction to this under-appreciated cuisine and culture. Start with the tea leaf salad; it has a flavor all it\\'s own that virtually EVERYONE enjoys. Burmese curries are quite different from the Indian curries. We especially like the eggplant curry. I have been to all locations of this Resturant many time. Food and service consistently excellent. The food was fairly bland, and quite uninteresting. The drinks were inexpertly prepared, with my drink having way too much coconut and sweetener. Service was well-intentioned, but rather clunky--the waiter came to take our appetizer plates, and a food runner was right behind him with our entrees--they nearly tripped over each other in the exchange. It\\'s weird--I\\'m almost certain that this restaurant is owned by the same people are Rangoon Ruby, but the Rangoon Ruby food is SO much better. We have eaten at Burma Ruby three times now, and the food and enjoyable atmosphere have been consistently excellent. The physical location is very appealing. The restaurant is in the middle of downtown Palo Alto. High ceilings and a row of arches contrast with the modern bar where lights of different subtle colors are projected. Sitting outisde or just inside the open front wall is an option. The fancy drink menu is fun and there are some interesting beer choices. The food has Indian, Chinese, and Thai influences. We have not had a single dish that we didn\\'t enjoy. Service is attentive but not intrusive and the waiter did not rush us. No negatives to report. We came here to just have a nice dinner outside the house, and we had a wonderful time! Amazing food and service, and they make their drinks pretty strong as well. We\\'ve been there three times and are working out way through the menu. So far everything has been tasty. The heat and spice is just right for my palate and the 4 gradations offered from mild to very spicy cover everyone. The tea pesto was surprisingly good but perhaps too oily for me to go for every night. Every chicken and beef dish has been outstanding. I found the fish a bit boring. Loved the curries. Not someplace to go for a quiet conversation. Staff was extremely thoughtful and attentive. Sat outside next to the heater and we were never forgotten and glasses were never left empty. Ordered the Rainbow Salad, Duck Garlic Noodles, Minted Pork, and Garlic Snow Pea Leaves. All were flavorful and paired well together. We had a fantastic time. This is the sister restaurant to Rangoon Ruby on Emerson Street, and the menu is the same delicious range of options. The style of Burma Ruby is more convivial -- the tables are more widely spaced and the noise level is not as severe. The wait staff is not quite as attentive, but this is easily remedied with greater focus and emphasis. We had a great time. Some of our party could not eat spicy food and they were very accommodating in that they made their dishes without any spice. The rest of the dishes had the appropriate amount of spice. The service was attentive. It was a little bit noisy but not too bad. Had been looking forward to trying this new restaurant - what a disappointment. my friend and I were there for lunch. it took a very long time for our waiter to come to the table, we actually had to \"flag\" him down. he took our order and when our food came, I asked for a knife and more water. He never brought it. We had to get the hostess to remind him. The food was not good at all. Overall it was pretty disappointing. Great food - a little loud, but food made up for it. The food is very good. However, the tables are too small for the plates and glasses that they use. Mostly the tables for two near the wall are very uncomfortable. They should put the table for four near the wall. Great University Ave location but incredibly noisy inside. We almost left but glad we didn\\'t. Food almost to the level of Rangoon Ruby and service excellent. One of the dishes we ordered-pumpkin stew-was surprisingly bland and tasteless so we sent it back. The replacement dish the manager suggested was excellent- minted chicken with jalape\\xc3\\xb1o. We typically avoid spicy foods so never considered this one. But don\\'t think the dish lost anything with the mild preparation and we wouldn\\'t hesitate to order again. I think the sesame beef was the table favorite. The tea leaf salad - their signature dish has the most amazing flavor. My husband who is a meat and potatoes guy loved this salad. And he never ever LOVES a salad. The ingredients were fresh and the combination of the tealeaves with crunchy yellow beans and fried garlic was fabulous. The rest of the meal was great too but the salad stood out in our minds. Delicious food and excellent service. A good place to go if you are short on time. Not really a place to linger.Went with an older couple, had to lean over the table and shout, even after asking them to lower the music (which they did graciously). We were far inside, but toward outside the Harleys went by quite often. Otherwise we liked every dish and the service was perfect.Food is Good, but nothing to rave about. Service was very attentive. Prices are a bit on the high side. Every dish costs between $15 and $20, so a dinner without drinks could easily run up to $80 after tax and tip.New restaurant which is jam packed! Great food and location on university ave in downtown Palo Alto. Requires booking in advance with right number of people. Slightly noisy due to always being full and the service is reasonably good despite them being completely full all the time.While I can\\'t say that the service was bad, it was strange that our server seemed to be absent most of the time and the manager was helping us. He did a great job and was very friendly. With him helping out we had good service. The food was great, especially the tea leaf salad. That was one of the reasons I went there and it was well worth it. All of the other dishes were well prepared and very tasty.Burma Ruby is the second front for Rangoon Ruby, which is a couple of blocks away but unable to expand on its current site. The menu is identical with the mother ship, and just as exciting and satisfying. It is unusual for one restaurant to have a satellite so close, but with downtown Palo Alto hopping as it is, they must have calculated the demand will sustain both. There are even a few sidewalk tables, where we sat, maybe a bit too close to the foot traffic, because there is no separation, but not unpleasant even so, if you like having passersby survey your dinner.Newly open. Did well for a new place which was very busy'"
       ]
      }
     ],
     "prompt_number": 48
    },
    {
     "cell_type": "code",
     "collapsed": false,
     "input": [
      "cleaned_reviews = re.sub(r'[\\\\[\\\\]\\n.!?;:\\t\\\\\"\\\\(\\\\)\\\\\\'\\u2019\\u2013]',' ',re.sub(r'[^\\x00-\\x7F]+','', reviews.lower()))\n",
      "TextRank(re.sub(r'[^\\x00-\\x7F]+','',cleaned_reviews))"
     ],
     "language": "python",
     "metadata": {},
     "outputs": [
      {
       "metadata": {},
       "output_type": "pyout",
       "prompt_number": 49,
       "text": [
        "['food runner',\n",
        " 'food quality',\n",
        " 'food arrives',\n",
        " 'very good',\n",
        " 'very attentive',\n",
        " 'very small',\n",
        " 'very spicy',\n",
        " 'very cold',\n",
        " 'very long',\n",
        " 'very salty',\n",
        " 'very disappointed',\n",
        " 'very uncomfortable',\n",
        " 'very busy',\n",
        " 'salad attentive',\n",
        " 'tea leaf',\n",
        " 'tea pesto',\n",
        " 'had good',\n",
        " 'had burmese',\n",
        " 'had been',\n",
        " 'had excellent',\n",
        " 'had mentioned',\n",
        " 'ruby rainbow',\n",
        " 'ruby shrimp',\n",
        " 'service good',\n",
        " 'service excellent',\n",
        " 'good place',\n",
        " 'good restaurants',\n",
        " 'good luck',\n",
        " 'great time',\n",
        " 'great flavor',\n",
        " 'great university',\n",
        " 'great server',\n",
        " 'great variety',\n",
        " 'great everytime',\n",
        " 'great job',\n",
        " 'dish lost',\n",
        " 'dish costs',\n",
        " 'restaurant love',\n",
        " 'restaurant filled',\n",
        " 'burmese dishes',\n",
        " 'burmese curries',\n",
        " 'chicken mango',\n",
        " 'chicken curry',\n",
        " 'delicious choices',\n",
        " 'delicious fresh',\n",
        " 'delicious range',\n",
        " 'coconut rice',\n",
        " 'palo alto',\n",
        " 'beef entree',\n",
        " 'beef kebat',\n",
        " 'dinner outside',\n",
        " 'ordered spicy',\n",
        " 'ordered medium',\n",
        " 'burma rudy',\n",
        " 'been tasty',\n",
        " 'been outstanding',\n",
        " 'few dollars',\n",
        " 'few sidewalk',\n",
        " 'few pieces',\n",
        " 'mango flavor',\n",
        " 'mango tofu',\n",
        " 'garlic noodles',\n",
        " 'garlic noodle',\n",
        " 'garlic snow',\n",
        " 'new place',\n",
        " 'new location',\n",
        " 'new favorite',\n",
        " 'rice served',\n",
        " 'bit noisy',\n",
        " 'bit expensive',\n",
        " 'outside next',\n",
        " 'different subtle',\n",
        " 'different vegetable',\n",
        " 'duck meat',\n",
        " 'much better',\n",
        " 'small basil',\n",
        " 'small cake',\n",
        " 'same people',\n",
        " 'same thing',\n",
        " 'side item',\n",
        " 'spicy foods',\n",
        " 'right number',\n",
        " 'only entree',\n",
        " 'only real',\n",
        " 'decent wine',\n",
        " 'mild preparation',\n",
        " 'university ave',\n",
        " 'dry rhine',\n",
        " 'dry gewurztraminer',\n",
        " 'prices reasonable',\n",
        " 'under-appreciated cuisine',\n",
        " 'everyone enjoys',\n",
        " 'minted pork',\n",
        " 'entree taste',\n",
        " 'noisy inside',\n",
        " 'noisy due',\n",
        " 'other hand',\n",
        " 'rudy team',\n",
        " 'noise level',\n",
        " 'velvet drape',\n",
        " 'modern touch',\n",
        " 'modern bar',\n",
        " 'days later',\n",
        " 'enjoyed meals',\n",
        " 'mother ship',\n",
        " 'high ceilings',\n",
        " 'subtle colors',\n",
        " 'foot traffic',\n",
        " 'thai influences',\n",
        " 'nice options',\n",
        " 'main course',\n",
        " 'wine list',\n",
        " 'price point',\n",
        " 'left empty',\n",
        " 'co workers',\n",
        " 'warm ambience',\n",
        " 'weather changes',\n",
        " 'san francisco',\n",
        " 'jam packed',\n",
        " 'emerson street',\n",
        " 'enjoyable atmosphere',\n",
        " 'interesting beer',\n",
        " 'snow pea',\n",
        " 'year girls',\n",
        " 'top notch']"
       ]
      }
     ],
     "prompt_number": 49
    }
   ],
   "metadata": {}
  }
 ]
}