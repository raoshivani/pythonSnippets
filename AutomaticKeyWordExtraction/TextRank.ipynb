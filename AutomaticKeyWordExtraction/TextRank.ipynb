{
 "metadata": {
  "name": "",
  "signature": "sha256:c7a98702b43d468395a9c5a4fde9f7347a1d8cd86510cca7181646dcd9b95221"
 },
 "nbformat": 3,
 "nbformat_minor": 0,
 "worksheets": [
  {
   "cells": [
    {
     "cell_type": "heading",
     "level": 1,
     "metadata": {},
     "source": [
      "TextRank illustration using ipython"
     ]
    },
    {
     "cell_type": "markdown",
     "metadata": {},
     "source": [
      "For details about the paper please visit (http://web.eecs.umich.edu/~mihalcea/papers/mihalcea.emnlp04.pdf)   \n",
      "This code only works for key-word extraction   \n",
      "I have borrowed heavily from various sources in order create this demo.   \n",
      "This is basically modified version of TextRank By David Adamo (https://github.com/davidadamojr/TextRank).    \n",
      "David has used a Levenshtein distance between two words, I have used the traditional window based approach mentioned in the paper   "
     ]
    },
    {
     "cell_type": "markdown",
     "metadata": {},
     "source": [
      "Import all the required tools"
     ]
    },
    {
     "cell_type": "code",
     "collapsed": false,
     "input": [
      "import io, os\n",
      "import nltk, sklearn\n",
      "import itertools\n",
      "from operator import itemgetter\n",
      "import networkx as nx\n",
      "from collections import defaultdict\n",
      "import matplotlib.pyplot as plt\n",
      "%matplotlib inline"
     ],
     "language": "python",
     "metadata": {},
     "outputs": [],
     "prompt_number": 135
    },
    {
     "cell_type": "code",
     "collapsed": false,
     "input": [
      "#apply syntactic filters based on POS tags taken from https://github.com/davidadamojr/TextRank\n",
      "def filter_for_tags(tagged, tags=['NN', 'JJ', 'NNP','NNS','VBN']):\n",
      "    return [item for item in tagged if item[1] in tags]\n",
      "\n",
      "#replace . with spaces https://github.com/davidadamojr/TextRank\n",
      "def normalize(tagged):\n",
      "    return [(item[0].replace('.', ''), item[1]) for item in tagged]\n",
      "\n",
      "# I create an inverted index here of the incoming word tokens. This helps me compute cooccurence in a given window\n",
      "def create_index (data):\n",
      "        index = defaultdict(list)\n",
      "        for i, token in enumerate(data):\n",
      "            index[token].append(i)\n",
      "        return index\n",
      "    \n",
      "# This function takes in an inverted index, the two terms and the window in which occurence is observed\n",
      "def computeCoOccurence(index, N, term1, term2):\n",
      "    word1L = index[term1] # get the list of locations where term1 occured\n",
      "    word2L = index[term2] # get the list of locations where term2 occured\n",
      "    cooccur = 0\n",
      "    # compute the cartesian product of the two lists\n",
      "    for (a,b) in itertools.product(word1L,word2L):\n",
      "        cooccur = cooccur + (abs(a-b)<=N) # if any of the pairs are within N window\n",
      "    return(cooccur)\n",
      "\n",
      "# This returns if two terms occured next to each other\n",
      "def isadjacent(index, term1, term2):\n",
      "    word1L = index[term1]\n",
      "    word2L = index[term2]\n",
      "    cooccur = 0 # assume the two terms are not adjacent\n",
      "    for (a,b) in itertools.product(word1L,word2L):\n",
      "        cooccur = cooccur or (a-b ==1) # unless at least for one of their occurences they were adjacent\n",
      "    return(cooccur)\n",
      "\n",
      "#Build a graph of the nodes, given the inverted index and the cooccurence window N\n",
      "# this code is partially borrowed from (https://github.com/davidadamojr/TextRank/blob/master/textrank.py)\n",
      "# I have used my own version of edge weights though\n",
      "def buildGraph(nodes,invertedIndex, N):\n",
      "    \"nodes - list of hashables that represents the nodes of the graph\"\n",
      "    gr = nx.Graph() #initialize an undirected graph\n",
      "    gr.add_nodes_from(nodes)\n",
      "    nodePairs = list(itertools.combinations(nodes, 2))\n",
      "\n",
      "    #add edges to the graph (weighted by Levenshtein distance)\n",
      "    for pair in nodePairs:\n",
      "        term1 = pair[0]\n",
      "        term2 = pair[1]\n",
      "        cooccurence = computeCoOccurence(invertedIndex, N, term1, term2)\n",
      "        if (cooccurence > 0):\n",
      "            gr.add_edge(term1, term2, weight=cooccurence)\n",
      "\n",
      "    return gr"
     ],
     "language": "python",
     "metadata": {},
     "outputs": [],
     "prompt_number": 100
    },
    {
     "cell_type": "markdown",
     "metadata": {},
     "source": [
      "Lets read in the text"
     ]
    },
    {
     "cell_type": "code",
     "collapsed": false,
     "input": [
      "text  = '''In this paper, we introduce TextRank, a graph-based ranking model for text processing, and show how this model can be successfully used in natural language applications. In particular, we propose two innovative unsupervised methods for keyword and sentence extraction, and show that the results obtained compare favorably with previously published results on established benchmarks.'''\n",
      "text"
     ],
     "language": "python",
     "metadata": {},
     "outputs": [
      {
       "metadata": {},
       "output_type": "pyout",
       "prompt_number": 101,
       "text": [
        "'In this paper, we introduce TextRank, a graph-based ranking model for text processing, and show how this model can be successfully used in natural language applications. In particular, we propose two innovative unsupervised methods for keyword and sentence extraction, and show that the results obtained compare favorably with previously published results on established benchmarks.'"
       ]
      }
     ],
     "prompt_number": 101
    },
    {
     "cell_type": "markdown",
     "metadata": {},
     "source": [
      "1. create word tokens   \n",
      "2. create inverted index from the word tokens   \n",
      "3. get the part of speech tags for the words   \n",
      "4. filter out anything thats not a noun or an adjective   \n",
      "5. finally take out any '.' marks"
     ]
    },
    {
     "cell_type": "code",
     "collapsed": false,
     "input": [
      "wordTokens = nltk.word_tokenize(text)\n",
      "invertedIndex = create_index(wordTokens)\n",
      "#assign POS tags to the words in the text\n",
      "tagged = nltk.pos_tag(wordTokens)\n",
      "tagged"
     ],
     "language": "python",
     "metadata": {},
     "outputs": [
      {
       "metadata": {},
       "output_type": "pyout",
       "prompt_number": 102,
       "text": [
        "[('In', 'IN'),\n",
        " ('this', 'DT'),\n",
        " ('paper', 'NN'),\n",
        " (',', ','),\n",
        " ('we', 'PRP'),\n",
        " ('introduce', 'VBP'),\n",
        " ('TextRank', 'NNP'),\n",
        " (',', ','),\n",
        " ('a', 'DT'),\n",
        " ('graph-based', 'JJ'),\n",
        " ('ranking', 'NN'),\n",
        " ('model', 'NN'),\n",
        " ('for', 'IN'),\n",
        " ('text', 'NN'),\n",
        " ('processing', 'VBG'),\n",
        " (',', ','),\n",
        " ('and', 'CC'),\n",
        " ('show', 'NN'),\n",
        " ('how', 'WRB'),\n",
        " ('this', 'DT'),\n",
        " ('model', 'NN'),\n",
        " ('can', 'MD'),\n",
        " ('be', 'VB'),\n",
        " ('successfully', 'RB'),\n",
        " ('used', 'VBN'),\n",
        " ('in', 'IN'),\n",
        " ('natural', 'JJ'),\n",
        " ('language', 'NN'),\n",
        " ('applications', 'NNS'),\n",
        " ('.', '.'),\n",
        " ('In', 'IN'),\n",
        " ('particular', 'JJ'),\n",
        " (',', ','),\n",
        " ('we', 'PRP'),\n",
        " ('propose', 'VBP'),\n",
        " ('two', 'CD'),\n",
        " ('innovative', 'JJ'),\n",
        " ('unsupervised', 'VBN'),\n",
        " ('methods', 'NNS'),\n",
        " ('for', 'IN'),\n",
        " ('keyword', 'NN'),\n",
        " ('and', 'CC'),\n",
        " ('sentence', 'NN'),\n",
        " ('extraction', 'NN'),\n",
        " (',', ','),\n",
        " ('and', 'CC'),\n",
        " ('show', 'NN'),\n",
        " ('that', 'IN'),\n",
        " ('the', 'DT'),\n",
        " ('results', 'NNS'),\n",
        " ('obtained', 'VBD'),\n",
        " ('compare', 'NN'),\n",
        " ('favorably', 'RB'),\n",
        " ('with', 'IN'),\n",
        " ('previously', 'RB'),\n",
        " ('published', 'VBN'),\n",
        " ('results', 'NNS'),\n",
        " ('on', 'IN'),\n",
        " ('established', 'JJ'),\n",
        " ('benchmarks', 'NNS'),\n",
        " ('.', '.')]"
       ]
      }
     ],
     "prompt_number": 102
    },
    {
     "cell_type": "code",
     "collapsed": false,
     "input": [
      "tagged = filter_for_tags(tagged)\n",
      "tagged = normalize(tagged)\n",
      "tagged"
     ],
     "language": "python",
     "metadata": {},
     "outputs": [
      {
       "metadata": {},
       "output_type": "pyout",
       "prompt_number": 105,
       "text": [
        "[('paper', 'NN'),\n",
        " ('TextRank', 'NNP'),\n",
        " ('graph-based', 'JJ'),\n",
        " ('ranking', 'NN'),\n",
        " ('model', 'NN'),\n",
        " ('text', 'NN'),\n",
        " ('show', 'NN'),\n",
        " ('model', 'NN'),\n",
        " ('used', 'VBN'),\n",
        " ('natural', 'JJ'),\n",
        " ('language', 'NN'),\n",
        " ('applications', 'NNS'),\n",
        " ('particular', 'JJ'),\n",
        " ('innovative', 'JJ'),\n",
        " ('unsupervised', 'VBN'),\n",
        " ('methods', 'NNS'),\n",
        " ('keyword', 'NN'),\n",
        " ('sentence', 'NN'),\n",
        " ('extraction', 'NN'),\n",
        " ('show', 'NN'),\n",
        " ('results', 'NNS'),\n",
        " ('compare', 'NN'),\n",
        " ('published', 'VBN'),\n",
        " ('results', 'NNS'),\n",
        " ('established', 'JJ'),\n",
        " ('benchmarks', 'NNS')]"
       ]
      }
     ],
     "prompt_number": 105
    },
    {
     "cell_type": "markdown",
     "metadata": {},
     "source": [
      "Lets build the graph"
     ]
    },
    {
     "cell_type": "code",
     "collapsed": false,
     "input": [
      "G.nodes()"
     ],
     "language": "python",
     "metadata": {},
     "outputs": [
      {
       "metadata": {},
       "output_type": "pyout",
       "prompt_number": 144,
       "text": [
        "['compare',\n",
        " 'methods',\n",
        " 'show',\n",
        " 'text',\n",
        " 'results',\n",
        " 'paper',\n",
        " 'innovative',\n",
        " 'established',\n",
        " 'sentence',\n",
        " 'extraction',\n",
        " 'TextRank',\n",
        " 'ranking',\n",
        " 'used',\n",
        " 'applications',\n",
        " 'particular',\n",
        " 'natural',\n",
        " 'keyword',\n",
        " 'language',\n",
        " 'unsupervised',\n",
        " 'graph-based',\n",
        " 'benchmarks',\n",
        " 'published',\n",
        " 'model']"
       ]
      }
     ],
     "prompt_number": 144
    },
    {
     "cell_type": "code",
     "collapsed": false,
     "input": [
      "nodes = set([x[0] for x in tagged])\n",
      "G = buildGraph(nodes,invertedIndex, N)\n",
      "pos=nx.spring_layout(G) # positions for all nodes\n",
      "# nodes\n",
      "nx.draw(G)\n",
      "nx.draw_networkx_labels(G,pos,labels={key: key for key in G.nodes()})\n",
      "plt.show()"
     ],
     "language": "python",
     "metadata": {},
     "outputs": [
      {
       "metadata": {},
       "output_type": "display_data",
       "png": "[encoded data removed]",
       "text": [
        "<matplotlib.figure.Figure at 0x116a41c90>"
       ]
      }
     ],
     "prompt_number": 148
    },
    {
     "cell_type": "markdown",
     "metadata": {},
     "source": [
      "Compute Page rank and extract the key phrases"
     ]
    },
    {
     "cell_type": "code",
     "collapsed": false,
     "input": [
      "calculated_page_rank = nx.pagerank(G, weight='weight')\n",
      "keyphrases = sorted(calculated_page_rank, key=calculated_page_rank.get, reverse=True)\n",
      "keyphrases"
     ],
     "language": "python",
     "metadata": {},
     "outputs": [
      {
       "metadata": {},
       "output_type": "pyout",
       "prompt_number": 111,
       "text": [
        "['model',\n",
        " 'results',\n",
        " 'show',\n",
        " 'keyword',\n",
        " 'methods',\n",
        " 'TextRank',\n",
        " 'sentence',\n",
        " 'ranking',\n",
        " 'graph-based',\n",
        " 'published',\n",
        " 'applications',\n",
        " 'natural',\n",
        " 'language',\n",
        " 'used',\n",
        " 'particular',\n",
        " 'text',\n",
        " 'compare',\n",
        " 'innovative',\n",
        " 'unsupervised',\n",
        " 'extraction',\n",
        " 'established',\n",
        " 'benchmarks',\n",
        " 'paper']"
       ]
      }
     ],
     "prompt_number": 111
    },
    {
     "cell_type": "markdown",
     "metadata": {},
     "source": [
      "Retain the top 1/3 of (size of graph) worth of nodes"
     ]
    },
    {
     "cell_type": "code",
     "collapsed": false,
     "input": [
      "keyPhrasePairs = list(itertools.combinations(keyphrases, 2))\n",
      "for pair in keyPhrasePairs:\n",
      "    term1 = pair[0]\n",
      "    term2 = pair[1]\n",
      "    if (isadjacent(invertedIndex, term1, term2)):\n",
      "        keyphrases.append(pair[0] + \" \" + pair[1])"
     ],
     "language": "python",
     "metadata": {},
     "outputs": [],
     "prompt_number": 115
    },
    {
     "cell_type": "code",
     "collapsed": false,
     "input": [
      "aThird = len(nodes) / 3\n",
      "keyphrases = keyphrases[0:aThird+1]"
     ],
     "language": "python",
     "metadata": {},
     "outputs": [],
     "prompt_number": 116
    },
    {
     "cell_type": "markdown",
     "metadata": {},
     "source": [
      "Combine adjacent important keyphrases to create new keywords"
     ]
    },
    {
     "cell_type": "code",
     "collapsed": false,
     "input": [
      "print(keyphrases)"
     ],
     "language": "python",
     "metadata": {},
     "outputs": [
      {
       "output_type": "stream",
       "stream": "stdout",
       "text": [
        "['model', 'results', 'show', 'keyword', 'methods', 'TextRank', 'sentence', 'ranking']\n"
       ]
      }
     ],
     "prompt_number": 117
    },
    {
     "cell_type": "code",
     "collapsed": false,
     "input": [],
     "language": "python",
     "metadata": {},
     "outputs": []
    }
   ],
   "metadata": {}
  }
 ]
}